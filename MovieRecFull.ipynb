{
 "cells": [
  {
   "cell_type": "code",
   "execution_count": 1,
   "metadata": {},
   "outputs": [],
   "source": [
    "%matplotlib inline\n",
    "import pandas as pd\n",
    "import numpy as np\n",
    "import matplotlib.pyplot as plt\n",
    "import seaborn as sns\n",
    "from scipy import stats\n",
    "from ast import literal_eval"
   ]
  },
  {
   "cell_type": "code",
   "execution_count": 2,
   "metadata": {},
   "outputs": [],
   "source": [
    "from sklearn.feature_extraction.text import TfidfVectorizer, CountVectorizer\n",
    "from sklearn.metrics.pairwise import linear_kernel, cosine_similarity\n",
    "from nltk.stem.snowball import SnowballStemmer\n",
    "from nltk.stem.wordnet import WordNetLemmatizer\n",
    "from nltk.corpus import wordnet\n",
    "from surprise import Reader, Dataset, SVD, evaluate\n",
    "\n",
    "from scipy.spatial.distance import euclidean, pdist, squareform\n",
    "\n",
    "import warnings; warnings.simplefilter('ignore')"
   ]
  },
  {
   "cell_type": "code",
   "execution_count": 3,
   "metadata": {},
   "outputs": [],
   "source": [
    "md = pd.read_csv(\"./data/movies_metadata.csv\")\n",
    "rt= pd.read_csv(\"./data/ratings_small.csv\")\n",
    "links= pd.read_csv(\"./data/links.csv\")   #MoivieIds\n",
    "keywords= pd.read_csv(\"./data/keywords.csv\")\n",
    "credits= pd.read_csv(\"./data/credits.csv\")"
   ]
  },
  {
   "cell_type": "code",
   "execution_count": 4,
   "metadata": {},
   "outputs": [
    {
     "data": {
      "text/plain": [
       "(46419, 2)"
      ]
     },
     "execution_count": 4,
     "metadata": {},
     "output_type": "execute_result"
    }
   ],
   "source": [
    "keywords.shape\n"
   ]
  },
  {
   "cell_type": "code",
   "execution_count": 5,
   "metadata": {},
   "outputs": [
    {
     "data": {
      "text/plain": [
       "1    [{'id': 10090, 'name': 'board game'}, {'id': 10941, 'name': 'disappearance'}, {'id': 15101, 'name': \"based on children's book\"}, {'id': 33467, 'name': 'new home'}, {'id': 158086, 'name': 'recluse'}, {'id': 158091, 'name': 'giant insect'}]\n",
       "Name: keywords, dtype: object"
      ]
     },
     "execution_count": 5,
     "metadata": {},
     "output_type": "execute_result"
    }
   ],
   "source": [
    "pd.options.display.max_colwidth = 500  \n",
    "keywords.iloc[[1]]['keywords']"
   ]
  },
  {
   "cell_type": "code",
   "execution_count": 6,
   "metadata": {},
   "outputs": [],
   "source": [
    "#keywords.head()"
   ]
  },
  {
   "cell_type": "code",
   "execution_count": 7,
   "metadata": {},
   "outputs": [],
   "source": [
    "#links.head()"
   ]
  },
  {
   "cell_type": "code",
   "execution_count": 8,
   "metadata": {},
   "outputs": [],
   "source": [
    "#md[['id','title']]"
   ]
  },
  {
   "cell_type": "code",
   "execution_count": 9,
   "metadata": {},
   "outputs": [],
   "source": [
    "#md[['id','title']].loc[md['id']=='15602']"
   ]
  },
  {
   "cell_type": "code",
   "execution_count": 10,
   "metadata": {},
   "outputs": [],
   "source": [
    "pd.options.display.max_colwidth=100"
   ]
  },
  {
   "cell_type": "code",
   "execution_count": 11,
   "metadata": {},
   "outputs": [
    {
     "data": {
      "text/plain": [
       "Index(['adult', 'belongs_to_collection', 'budget', 'genres', 'homepage', 'id',\n",
       "       'imdb_id', 'original_language', 'original_title', 'overview',\n",
       "       'popularity', 'poster_path', 'production_companies',\n",
       "       'production_countries', 'release_date', 'revenue', 'runtime',\n",
       "       'spoken_languages', 'status', 'tagline', 'title', 'video',\n",
       "       'vote_average', 'vote_count'],\n",
       "      dtype='object')"
      ]
     },
     "execution_count": 11,
     "metadata": {},
     "output_type": "execute_result"
    }
   ],
   "source": [
    "md.columns"
   ]
  },
  {
   "cell_type": "code",
   "execution_count": 12,
   "metadata": {},
   "outputs": [],
   "source": [
    "#md['vote_count'].head()"
   ]
  },
  {
   "cell_type": "code",
   "execution_count": 13,
   "metadata": {},
   "outputs": [
    {
     "data": {
      "text/plain": [
       "(82.0, 5.618207215133889)"
      ]
     },
     "execution_count": 13,
     "metadata": {},
     "output_type": "execute_result"
    }
   ],
   "source": [
    "c = md[(md['vote_average'].notnull())]['vote_average'].mean()\n",
    "m = md['vote_count'].quantile(0.85)\n",
    "m,c"
   ]
  },
  {
   "cell_type": "code",
   "execution_count": 14,
   "metadata": {},
   "outputs": [],
   "source": [
    "md['year']=md['release_date'].apply(lambda x: str(x).split('-')[0])\n",
    "md['vote_count']=md[(md['vote_count'].notnull())]['vote_count'].astype('int')\n"
   ]
  },
  {
   "cell_type": "code",
   "execution_count": 15,
   "metadata": {
    "scrolled": true
   },
   "outputs": [],
   "source": [
    "quantised = md.loc[(md['vote_count'] >= m) & md['vote_average'].notnull()][['id','title','year','vote_average','vote_count','genres','popularity']]"
   ]
  },
  {
   "cell_type": "code",
   "execution_count": 16,
   "metadata": {},
   "outputs": [],
   "source": [
    "quantised['vote_count']=quantised[quantised['vote_count'].notnull()]['vote_count'].astype('int')"
   ]
  },
  {
   "cell_type": "code",
   "execution_count": 17,
   "metadata": {},
   "outputs": [
    {
     "data": {
      "text/plain": [
       "(6832, 7)"
      ]
     },
     "execution_count": 17,
     "metadata": {},
     "output_type": "execute_result"
    }
   ],
   "source": [
    "quantised.shape"
   ]
  },
  {
   "cell_type": "code",
   "execution_count": 18,
   "metadata": {},
   "outputs": [],
   "source": [
    "#quantised.sort_values('vote_average',ascending=False)"
   ]
  },
  {
   "cell_type": "code",
   "execution_count": 19,
   "metadata": {},
   "outputs": [],
   "source": [
    "def weightedMean(df):\n",
    "    v=df['vote_count']\n",
    "    r=df['vote_average']\n",
    "    wr=(v*r+m*c)/(v+m)\n",
    "    return wr\n",
    "    "
   ]
  },
  {
   "cell_type": "code",
   "execution_count": 20,
   "metadata": {},
   "outputs": [],
   "source": [
    "quantised['wr']=quantised.apply(weightedMean,axis=1)"
   ]
  },
  {
   "cell_type": "code",
   "execution_count": 21,
   "metadata": {},
   "outputs": [
    {
     "data": {
      "text/html": [
       "<div>\n",
       "<style scoped>\n",
       "    .dataframe tbody tr th:only-of-type {\n",
       "        vertical-align: middle;\n",
       "    }\n",
       "\n",
       "    .dataframe tbody tr th {\n",
       "        vertical-align: top;\n",
       "    }\n",
       "\n",
       "    .dataframe thead th {\n",
       "        text-align: right;\n",
       "    }\n",
       "</style>\n",
       "<table border=\"1\" class=\"dataframe\">\n",
       "  <thead>\n",
       "    <tr style=\"text-align: right;\">\n",
       "      <th></th>\n",
       "      <th>id</th>\n",
       "      <th>title</th>\n",
       "      <th>year</th>\n",
       "      <th>vote_average</th>\n",
       "      <th>vote_count</th>\n",
       "      <th>genres</th>\n",
       "      <th>popularity</th>\n",
       "      <th>wr</th>\n",
       "    </tr>\n",
       "  </thead>\n",
       "  <tbody>\n",
       "    <tr>\n",
       "      <th>10309</th>\n",
       "      <td>19404</td>\n",
       "      <td>Dilwale Dulhania Le Jayenge</td>\n",
       "      <td>1995</td>\n",
       "      <td>9.1</td>\n",
       "      <td>661</td>\n",
       "      <td>[{'id': 35, 'name': 'Comedy'}, {'id': 18, 'name': 'Drama'}, {'id': 10749, 'name': 'Romance'}]</td>\n",
       "      <td>34.457</td>\n",
       "      <td>8.715738</td>\n",
       "    </tr>\n",
       "    <tr>\n",
       "      <th>314</th>\n",
       "      <td>278</td>\n",
       "      <td>The Shawshank Redemption</td>\n",
       "      <td>1994</td>\n",
       "      <td>8.5</td>\n",
       "      <td>8358</td>\n",
       "      <td>[{'id': 18, 'name': 'Drama'}, {'id': 80, 'name': 'Crime'}]</td>\n",
       "      <td>51.6454</td>\n",
       "      <td>8.472002</td>\n",
       "    </tr>\n",
       "    <tr>\n",
       "      <th>834</th>\n",
       "      <td>238</td>\n",
       "      <td>The Godfather</td>\n",
       "      <td>1972</td>\n",
       "      <td>8.5</td>\n",
       "      <td>6024</td>\n",
       "      <td>[{'id': 18, 'name': 'Drama'}, {'id': 80, 'name': 'Crime'}]</td>\n",
       "      <td>41.1093</td>\n",
       "      <td>8.461299</td>\n",
       "    </tr>\n",
       "    <tr>\n",
       "      <th>40251</th>\n",
       "      <td>372058</td>\n",
       "      <td>Your Name.</td>\n",
       "      <td>2016</td>\n",
       "      <td>8.5</td>\n",
       "      <td>1030</td>\n",
       "      <td>[{'id': 10749, 'name': 'Romance'}, {'id': 16, 'name': 'Animation'}, {'id': 18, 'name': 'Drama'}]</td>\n",
       "      <td>34.461252</td>\n",
       "      <td>8.287494</td>\n",
       "    </tr>\n",
       "    <tr>\n",
       "      <th>12481</th>\n",
       "      <td>155</td>\n",
       "      <td>The Dark Knight</td>\n",
       "      <td>2008</td>\n",
       "      <td>8.3</td>\n",
       "      <td>12269</td>\n",
       "      <td>[{'id': 18, 'name': 'Drama'}, {'id': 28, 'name': 'Action'}, {'id': 80, 'name': 'Crime'}, {'id': ...</td>\n",
       "      <td>123.167</td>\n",
       "      <td>8.282195</td>\n",
       "    </tr>\n",
       "    <tr>\n",
       "      <th>2843</th>\n",
       "      <td>550</td>\n",
       "      <td>Fight Club</td>\n",
       "      <td>1999</td>\n",
       "      <td>8.3</td>\n",
       "      <td>9678</td>\n",
       "      <td>[{'id': 18, 'name': 'Drama'}]</td>\n",
       "      <td>63.8696</td>\n",
       "      <td>8.277469</td>\n",
       "    </tr>\n",
       "    <tr>\n",
       "      <th>292</th>\n",
       "      <td>680</td>\n",
       "      <td>Pulp Fiction</td>\n",
       "      <td>1994</td>\n",
       "      <td>8.3</td>\n",
       "      <td>8670</td>\n",
       "      <td>[{'id': 53, 'name': 'Thriller'}, {'id': 80, 'name': 'Crime'}]</td>\n",
       "      <td>140.95</td>\n",
       "      <td>8.274874</td>\n",
       "    </tr>\n",
       "    <tr>\n",
       "      <th>522</th>\n",
       "      <td>424</td>\n",
       "      <td>Schindler's List</td>\n",
       "      <td>1993</td>\n",
       "      <td>8.3</td>\n",
       "      <td>4436</td>\n",
       "      <td>[{'id': 18, 'name': 'Drama'}, {'id': 36, 'name': 'History'}, {'id': 10752, 'name': 'War'}]</td>\n",
       "      <td>41.7251</td>\n",
       "      <td>8.251326</td>\n",
       "    </tr>\n",
       "    <tr>\n",
       "      <th>23673</th>\n",
       "      <td>244786</td>\n",
       "      <td>Whiplash</td>\n",
       "      <td>2014</td>\n",
       "      <td>8.3</td>\n",
       "      <td>4376</td>\n",
       "      <td>[{'id': 18, 'name': 'Drama'}]</td>\n",
       "      <td>64.3</td>\n",
       "      <td>8.250671</td>\n",
       "    </tr>\n",
       "    <tr>\n",
       "      <th>5481</th>\n",
       "      <td>129</td>\n",
       "      <td>Spirited Away</td>\n",
       "      <td>2001</td>\n",
       "      <td>8.3</td>\n",
       "      <td>3968</td>\n",
       "      <td>[{'id': 14, 'name': 'Fantasy'}, {'id': 12, 'name': 'Adventure'}, {'id': 16, 'name': 'Animation'}...</td>\n",
       "      <td>41.0489</td>\n",
       "      <td>8.245702</td>\n",
       "    </tr>\n",
       "  </tbody>\n",
       "</table>\n",
       "</div>"
      ],
      "text/plain": [
       "           id                        title  year  vote_average  vote_count  \\\n",
       "10309   19404  Dilwale Dulhania Le Jayenge  1995           9.1         661   \n",
       "314       278     The Shawshank Redemption  1994           8.5        8358   \n",
       "834       238                The Godfather  1972           8.5        6024   \n",
       "40251  372058                   Your Name.  2016           8.5        1030   \n",
       "12481     155              The Dark Knight  2008           8.3       12269   \n",
       "2843      550                   Fight Club  1999           8.3        9678   \n",
       "292       680                 Pulp Fiction  1994           8.3        8670   \n",
       "522       424             Schindler's List  1993           8.3        4436   \n",
       "23673  244786                     Whiplash  2014           8.3        4376   \n",
       "5481      129                Spirited Away  2001           8.3        3968   \n",
       "\n",
       "                                                                                                    genres  \\\n",
       "10309        [{'id': 35, 'name': 'Comedy'}, {'id': 18, 'name': 'Drama'}, {'id': 10749, 'name': 'Romance'}]   \n",
       "314                                             [{'id': 18, 'name': 'Drama'}, {'id': 80, 'name': 'Crime'}]   \n",
       "834                                             [{'id': 18, 'name': 'Drama'}, {'id': 80, 'name': 'Crime'}]   \n",
       "40251     [{'id': 10749, 'name': 'Romance'}, {'id': 16, 'name': 'Animation'}, {'id': 18, 'name': 'Drama'}]   \n",
       "12481  [{'id': 18, 'name': 'Drama'}, {'id': 28, 'name': 'Action'}, {'id': 80, 'name': 'Crime'}, {'id': ...   \n",
       "2843                                                                         [{'id': 18, 'name': 'Drama'}]   \n",
       "292                                          [{'id': 53, 'name': 'Thriller'}, {'id': 80, 'name': 'Crime'}]   \n",
       "522             [{'id': 18, 'name': 'Drama'}, {'id': 36, 'name': 'History'}, {'id': 10752, 'name': 'War'}]   \n",
       "23673                                                                        [{'id': 18, 'name': 'Drama'}]   \n",
       "5481   [{'id': 14, 'name': 'Fantasy'}, {'id': 12, 'name': 'Adventure'}, {'id': 16, 'name': 'Animation'}...   \n",
       "\n",
       "      popularity        wr  \n",
       "10309     34.457  8.715738  \n",
       "314      51.6454  8.472002  \n",
       "834      41.1093  8.461299  \n",
       "40251  34.461252  8.287494  \n",
       "12481    123.167  8.282195  \n",
       "2843     63.8696  8.277469  \n",
       "292       140.95  8.274874  \n",
       "522      41.7251  8.251326  \n",
       "23673       64.3  8.250671  \n",
       "5481     41.0489  8.245702  "
      ]
     },
     "execution_count": 21,
     "metadata": {},
     "output_type": "execute_result"
    }
   ],
   "source": [
    "quantised.sort_values('wr',ascending=False).head(10) "
   ]
  },
  {
   "cell_type": "code",
   "execution_count": 22,
   "metadata": {},
   "outputs": [
    {
     "data": {
      "text/html": [
       "<div>\n",
       "<style scoped>\n",
       "    .dataframe tbody tr th:only-of-type {\n",
       "        vertical-align: middle;\n",
       "    }\n",
       "\n",
       "    .dataframe tbody tr th {\n",
       "        vertical-align: top;\n",
       "    }\n",
       "\n",
       "    .dataframe thead th {\n",
       "        text-align: right;\n",
       "    }\n",
       "</style>\n",
       "<table border=\"1\" class=\"dataframe\">\n",
       "  <thead>\n",
       "    <tr style=\"text-align: right;\">\n",
       "      <th></th>\n",
       "      <th>id</th>\n",
       "      <th>title</th>\n",
       "      <th>year</th>\n",
       "      <th>vote_average</th>\n",
       "      <th>vote_count</th>\n",
       "      <th>genres</th>\n",
       "      <th>popularity</th>\n",
       "      <th>wr</th>\n",
       "    </tr>\n",
       "  </thead>\n",
       "  <tbody>\n",
       "    <tr>\n",
       "      <th>10309</th>\n",
       "      <td>19404</td>\n",
       "      <td>Dilwale Dulhania Le Jayenge</td>\n",
       "      <td>1995</td>\n",
       "      <td>9.1</td>\n",
       "      <td>661</td>\n",
       "      <td>[{'id': 35, 'name': 'Comedy'}, {'id': 18, 'name': 'Drama'}, {'id': 10749, 'name': 'Romance'}]</td>\n",
       "      <td>34.457</td>\n",
       "      <td>8.715738</td>\n",
       "    </tr>\n",
       "    <tr>\n",
       "      <th>40251</th>\n",
       "      <td>372058</td>\n",
       "      <td>Your Name.</td>\n",
       "      <td>2016</td>\n",
       "      <td>8.5</td>\n",
       "      <td>1030</td>\n",
       "      <td>[{'id': 10749, 'name': 'Romance'}, {'id': 16, 'name': 'Animation'}, {'id': 18, 'name': 'Drama'}]</td>\n",
       "      <td>34.461252</td>\n",
       "      <td>8.287494</td>\n",
       "    </tr>\n",
       "    <tr>\n",
       "      <th>351</th>\n",
       "      <td>13</td>\n",
       "      <td>Forrest Gump</td>\n",
       "      <td>1994</td>\n",
       "      <td>8.2</td>\n",
       "      <td>8147</td>\n",
       "      <td>[{'id': 35, 'name': 'Comedy'}, {'id': 18, 'name': 'Drama'}, {'id': 10749, 'name': 'Romance'}]</td>\n",
       "      <td>48.3072</td>\n",
       "      <td>8.174273</td>\n",
       "    </tr>\n",
       "    <tr>\n",
       "      <th>1132</th>\n",
       "      <td>11216</td>\n",
       "      <td>Cinema Paradiso</td>\n",
       "      <td>1988</td>\n",
       "      <td>8.2</td>\n",
       "      <td>834</td>\n",
       "      <td>[{'id': 18, 'name': 'Drama'}, {'id': 10749, 'name': 'Romance'}]</td>\n",
       "      <td>14.177</td>\n",
       "      <td>7.968879</td>\n",
       "    </tr>\n",
       "    <tr>\n",
       "      <th>40882</th>\n",
       "      <td>313369</td>\n",
       "      <td>La La Land</td>\n",
       "      <td>2016</td>\n",
       "      <td>7.9</td>\n",
       "      <td>4745</td>\n",
       "      <td>[{'id': 35, 'name': 'Comedy'}, {'id': 18, 'name': 'Drama'}, {'id': 10402, 'name': 'Music'}, {'id...</td>\n",
       "      <td>19.681686</td>\n",
       "      <td>7.861237</td>\n",
       "    </tr>\n",
       "    <tr>\n",
       "      <th>22168</th>\n",
       "      <td>152601</td>\n",
       "      <td>Her</td>\n",
       "      <td>2013</td>\n",
       "      <td>7.9</td>\n",
       "      <td>4215</td>\n",
       "      <td>[{'id': 10749, 'name': 'Romance'}, {'id': 878, 'name': 'Science Fiction'}, {'id': 18, 'name': 'D...</td>\n",
       "      <td>13.8295</td>\n",
       "      <td>7.856456</td>\n",
       "    </tr>\n",
       "    <tr>\n",
       "      <th>7208</th>\n",
       "      <td>38</td>\n",
       "      <td>Eternal Sunshine of the Spotless Mind</td>\n",
       "      <td>2004</td>\n",
       "      <td>7.9</td>\n",
       "      <td>3758</td>\n",
       "      <td>[{'id': 878, 'name': 'Science Fiction'}, {'id': 18, 'name': 'Drama'}, {'id': 10749, 'name': 'Rom...</td>\n",
       "      <td>12.9063</td>\n",
       "      <td>7.851274</td>\n",
       "    </tr>\n",
       "    <tr>\n",
       "      <th>876</th>\n",
       "      <td>426</td>\n",
       "      <td>Vertigo</td>\n",
       "      <td>1958</td>\n",
       "      <td>8.0</td>\n",
       "      <td>1162</td>\n",
       "      <td>[{'id': 9648, 'name': 'Mystery'}, {'id': 10749, 'name': 'Romance'}, {'id': 53, 'name': 'Thriller'}]</td>\n",
       "      <td>18.2082</td>\n",
       "      <td>7.843001</td>\n",
       "    </tr>\n",
       "    <tr>\n",
       "      <th>3189</th>\n",
       "      <td>901</td>\n",
       "      <td>City Lights</td>\n",
       "      <td>1931</td>\n",
       "      <td>8.2</td>\n",
       "      <td>444</td>\n",
       "      <td>[{'id': 35, 'name': 'Comedy'}, {'id': 18, 'name': 'Drama'}, {'id': 10749, 'name': 'Romance'}]</td>\n",
       "      <td>10.8915</td>\n",
       "      <td>7.797515</td>\n",
       "    </tr>\n",
       "    <tr>\n",
       "      <th>15530</th>\n",
       "      <td>31011</td>\n",
       "      <td>Mr. Nobody</td>\n",
       "      <td>2009</td>\n",
       "      <td>7.9</td>\n",
       "      <td>1616</td>\n",
       "      <td>[{'id': 878, 'name': 'Science Fiction'}, {'id': 18, 'name': 'Drama'}, {'id': 10749, 'name': 'Rom...</td>\n",
       "      <td>11.8171</td>\n",
       "      <td>7.789807</td>\n",
       "    </tr>\n",
       "  </tbody>\n",
       "</table>\n",
       "</div>"
      ],
      "text/plain": [
       "           id                                  title  year  vote_average  \\\n",
       "10309   19404            Dilwale Dulhania Le Jayenge  1995           9.1   \n",
       "40251  372058                             Your Name.  2016           8.5   \n",
       "351        13                           Forrest Gump  1994           8.2   \n",
       "1132    11216                        Cinema Paradiso  1988           8.2   \n",
       "40882  313369                             La La Land  2016           7.9   \n",
       "22168  152601                                    Her  2013           7.9   \n",
       "7208       38  Eternal Sunshine of the Spotless Mind  2004           7.9   \n",
       "876       426                                Vertigo  1958           8.0   \n",
       "3189      901                            City Lights  1931           8.2   \n",
       "15530   31011                             Mr. Nobody  2009           7.9   \n",
       "\n",
       "       vote_count  \\\n",
       "10309         661   \n",
       "40251        1030   \n",
       "351          8147   \n",
       "1132          834   \n",
       "40882        4745   \n",
       "22168        4215   \n",
       "7208         3758   \n",
       "876          1162   \n",
       "3189          444   \n",
       "15530        1616   \n",
       "\n",
       "                                                                                                    genres  \\\n",
       "10309        [{'id': 35, 'name': 'Comedy'}, {'id': 18, 'name': 'Drama'}, {'id': 10749, 'name': 'Romance'}]   \n",
       "40251     [{'id': 10749, 'name': 'Romance'}, {'id': 16, 'name': 'Animation'}, {'id': 18, 'name': 'Drama'}]   \n",
       "351          [{'id': 35, 'name': 'Comedy'}, {'id': 18, 'name': 'Drama'}, {'id': 10749, 'name': 'Romance'}]   \n",
       "1132                                       [{'id': 18, 'name': 'Drama'}, {'id': 10749, 'name': 'Romance'}]   \n",
       "40882  [{'id': 35, 'name': 'Comedy'}, {'id': 18, 'name': 'Drama'}, {'id': 10402, 'name': 'Music'}, {'id...   \n",
       "22168  [{'id': 10749, 'name': 'Romance'}, {'id': 878, 'name': 'Science Fiction'}, {'id': 18, 'name': 'D...   \n",
       "7208   [{'id': 878, 'name': 'Science Fiction'}, {'id': 18, 'name': 'Drama'}, {'id': 10749, 'name': 'Rom...   \n",
       "876    [{'id': 9648, 'name': 'Mystery'}, {'id': 10749, 'name': 'Romance'}, {'id': 53, 'name': 'Thriller'}]   \n",
       "3189         [{'id': 35, 'name': 'Comedy'}, {'id': 18, 'name': 'Drama'}, {'id': 10749, 'name': 'Romance'}]   \n",
       "15530  [{'id': 878, 'name': 'Science Fiction'}, {'id': 18, 'name': 'Drama'}, {'id': 10749, 'name': 'Rom...   \n",
       "\n",
       "      popularity        wr  \n",
       "10309     34.457  8.715738  \n",
       "40251  34.461252  8.287494  \n",
       "351      48.3072  8.174273  \n",
       "1132      14.177  7.968879  \n",
       "40882  19.681686  7.861237  \n",
       "22168    13.8295  7.856456  \n",
       "7208     12.9063  7.851274  \n",
       "876      18.2082  7.843001  \n",
       "3189     10.8915  7.797515  \n",
       "15530    11.8171  7.789807  "
      ]
     },
     "execution_count": 22,
     "metadata": {},
     "output_type": "execute_result"
    }
   ],
   "source": [
    "quantised[quantised['genres'].str.contains('Romance')].sort_values('wr',ascending=False).head(10) "
   ]
  },
  {
   "cell_type": "code",
   "execution_count": 23,
   "metadata": {},
   "outputs": [],
   "source": [
    "#md['overview']"
   ]
  },
  {
   "cell_type": "code",
   "execution_count": 24,
   "metadata": {},
   "outputs": [],
   "source": [
    "\n",
    "# -----------------------------------------------\n",
    "# ####Content Based Recommender ###############\n",
    "# -----------------------------------------------\n"
   ]
  },
  {
   "cell_type": "code",
   "execution_count": 25,
   "metadata": {},
   "outputs": [],
   "source": [
    "links_sm=pd.read_csv('./data/links_small.csv')\n",
    "#links_sm.head(20)\n"
   ]
  },
  {
   "cell_type": "code",
   "execution_count": 26,
   "metadata": {},
   "outputs": [],
   "source": [
    "links['tmdbId']=links[links['tmdbId'].notnull()]['tmdbId'].astype('int')\n",
    "links_sm['tmdbId']=links_sm[links_sm['tmdbId'].notnull()]['tmdbId'].astype('int')"
   ]
  },
  {
   "cell_type": "code",
   "execution_count": 27,
   "metadata": {},
   "outputs": [
    {
     "data": {
      "text/plain": [
       "Index(['adult', 'belongs_to_collection', 'budget', 'genres', 'homepage', 'id',\n",
       "       'imdb_id', 'original_language', 'original_title', 'overview',\n",
       "       'popularity', 'poster_path', 'production_companies',\n",
       "       'production_countries', 'release_date', 'revenue', 'runtime',\n",
       "       'spoken_languages', 'status', 'tagline', 'title', 'video',\n",
       "       'vote_average', 'vote_count', 'year'],\n",
       "      dtype='object')"
      ]
     },
     "execution_count": 27,
     "metadata": {},
     "output_type": "execute_result"
    }
   ],
   "source": [
    "links_sm.shape\n",
    "md.columns"
   ]
  },
  {
   "cell_type": "markdown",
   "metadata": {},
   "source": [
    "md.columns"
   ]
  },
  {
   "cell_type": "code",
   "execution_count": 28,
   "metadata": {},
   "outputs": [],
   "source": [
    "#md.loc[md['id'].notull()]['id'].astype(int)\n",
    "#md[md['id'].isin(links_sm['movieId'])]\n",
    "#md.columns\n",
    "md = md.drop([19730, 29503, 35587])\n",
    "md['id']=md[md['id'].notnull()]['id'].astype(int)"
   ]
  },
  {
   "cell_type": "code",
   "execution_count": 29,
   "metadata": {},
   "outputs": [],
   "source": [
    "####SMALL MD CERATED\n",
    "\n",
    "smd =md[md['id'].isin(links_sm['movieId'])]\n"
   ]
  },
  {
   "cell_type": "code",
   "execution_count": 30,
   "metadata": {},
   "outputs": [],
   "source": [
    "#md.head()"
   ]
  },
  {
   "cell_type": "markdown",
   "metadata": {},
   "source": [
    "md.shape"
   ]
  },
  {
   "cell_type": "code",
   "execution_count": 31,
   "metadata": {},
   "outputs": [],
   "source": [
    "\n",
    "md['tagline']= md['tagline'].fillna(' ')\n",
    "smd['tagline']= smd['tagline'].fillna(' ')"
   ]
  },
  {
   "cell_type": "code",
   "execution_count": 32,
   "metadata": {},
   "outputs": [],
   "source": [
    "md['overview']= md['overview'].fillna(' ')\n",
    "smd['overview']= smd['overview'].fillna(' ')"
   ]
  },
  {
   "cell_type": "code",
   "execution_count": 33,
   "metadata": {},
   "outputs": [],
   "source": [
    "md['descript']= md['tagline']+ md['overview']\n",
    "md['descript']=md['descript'].fillna(' ')\n",
    "smd['descript']= smd['tagline']+ smd['overview']\n",
    "smd['descript']=smd['descript'].fillna(' ')\n",
    "pd.options.display.max_colwidth=500\n"
   ]
  },
  {
   "cell_type": "code",
   "execution_count": 34,
   "metadata": {},
   "outputs": [],
   "source": [
    "###ON SMD"
   ]
  },
  {
   "cell_type": "code",
   "execution_count": null,
   "metadata": {},
   "outputs": [],
   "source": []
  },
  {
   "cell_type": "code",
   "execution_count": 35,
   "metadata": {},
   "outputs": [],
   "source": [
    "tf=TfidfVectorizer(analyzer='word',ngram_range=(1, 2),min_df=0, stop_words='english')"
   ]
  },
  {
   "cell_type": "code",
   "execution_count": 36,
   "metadata": {},
   "outputs": [],
   "source": [
    "tfidfmat=tf.fit_transform(smd['descript'])"
   ]
  },
  {
   "cell_type": "code",
   "execution_count": 37,
   "metadata": {},
   "outputs": [
    {
     "data": {
      "text/plain": [
       "(2840, 95316)"
      ]
     },
     "execution_count": 37,
     "metadata": {},
     "output_type": "execute_result"
    }
   ],
   "source": [
    "tfidfmat.shape"
   ]
  },
  {
   "cell_type": "code",
   "execution_count": 38,
   "metadata": {},
   "outputs": [],
   "source": [
    "cosine_sim=linear_kernel(tfidfmat,tfidfmat)"
   ]
  },
  {
   "cell_type": "code",
   "execution_count": 39,
   "metadata": {},
   "outputs": [
    {
     "data": {
      "text/plain": [
       "(2840, 2840)"
      ]
     },
     "execution_count": 39,
     "metadata": {},
     "output_type": "execute_result"
    }
   ],
   "source": [
    "cosine_sim.shape"
   ]
  },
  {
   "cell_type": "code",
   "execution_count": 40,
   "metadata": {},
   "outputs": [],
   "source": [
    "#smd = smd.reset_index()\n",
    "pd.options.display.max_colwidth=50\n",
    "smd = smd.reset_index()"
   ]
  },
  {
   "cell_type": "code",
   "execution_count": 41,
   "metadata": {},
   "outputs": [],
   "source": [
    "titles=smd['title']"
   ]
  },
  {
   "cell_type": "code",
   "execution_count": 42,
   "metadata": {},
   "outputs": [],
   "source": [
    "#smd.head()"
   ]
  },
  {
   "cell_type": "code",
   "execution_count": 43,
   "metadata": {},
   "outputs": [],
   "source": [
    "indices=pd.Series(smd.index,index=titles)\n",
    "#indices"
   ]
  },
  {
   "cell_type": "code",
   "execution_count": 44,
   "metadata": {
    "scrolled": false
   },
   "outputs": [],
   "source": [
    "idx=1\n",
    "args=np.argsort(cosine_sim[1])\n",
    "sim_scores = list(enumerate(cosine_sim[idx]))\n",
    "sim_scores = sorted(sim_scores, key=lambda x: x[1], reverse=True)\n",
    "sim_scores = sim_scores[1:31]\n",
    "movie_indices = [i[0] for i in sim_scores]\n",
    "#titles.iloc[movie_indices]\n"
   ]
  },
  {
   "cell_type": "code",
   "execution_count": 45,
   "metadata": {},
   "outputs": [],
   "source": [
    "#idx=1\n",
    "#args=np.argsort(cosine_sim[1])\n",
    "#args=args[-31:]\n",
    "#for i in args:\n",
    " #   print(titles.iloc[i])"
   ]
  },
  {
   "cell_type": "code",
   "execution_count": 46,
   "metadata": {},
   "outputs": [],
   "source": [
    "#FULLL MDB\n",
    "#tf=TfidfVectorizer(analyzer='word',min_df=0, stop_words='english', ngram_range=(1,2))\n",
    "tf=TfidfVectorizer(analyzer='word',min_df=0, stop_words='english', ngram_range=(1,2))"
   ]
  },
  {
   "cell_type": "code",
   "execution_count": 47,
   "metadata": {},
   "outputs": [],
   "source": [
    "pd.options.display.max_colwidth=150\n",
    "md['short_overview']= md['overview'].apply(lambda x: x[0:100])\n"
   ]
  },
  {
   "cell_type": "code",
   "execution_count": 48,
   "metadata": {},
   "outputs": [],
   "source": [
    "md_top=md.loc[md['vote_average']>6]\n",
    "#md_top=md_top.reset_index()\n",
    "#Droppung 2nd batman\n",
    "md_top.loc[md_top.title=='Batman']\n",
    "md_top=md_top.drop([5108])"
   ]
  },
  {
   "cell_type": "code",
   "execution_count": 49,
   "metadata": {},
   "outputs": [],
   "source": [
    "tfidfmat=tf.fit_transform(md_top['overview'])\n"
   ]
  },
  {
   "cell_type": "code",
   "execution_count": null,
   "metadata": {},
   "outputs": [],
   "source": []
  },
  {
   "cell_type": "code",
   "execution_count": 54,
   "metadata": {},
   "outputs": [
    {
     "data": {
      "text/plain": [
       "(21774, 21774)"
      ]
     },
     "execution_count": 54,
     "metadata": {},
     "output_type": "execute_result"
    }
   ],
   "source": []
  },
  {
   "cell_type": "code",
   "execution_count": null,
   "metadata": {},
   "outputs": [],
   "source": []
  },
  {
   "cell_type": "code",
   "execution_count": 50,
   "metadata": {},
   "outputs": [],
   "source": [
    "tfidfmat_sma=tf.fit_transform(md_top['short_overview'])\n"
   ]
  },
  {
   "cell_type": "code",
   "execution_count": 51,
   "metadata": {},
   "outputs": [
    {
     "data": {
      "text/plain": [
       "(21774, 193379)"
      ]
     },
     "execution_count": 51,
     "metadata": {},
     "output_type": "execute_result"
    }
   ],
   "source": [
    "tfidfmat_sma.shape"
   ]
  },
  {
   "cell_type": "code",
   "execution_count": 52,
   "metadata": {},
   "outputs": [],
   "source": [
    "cosine_sim=linear_kernel(tfidfmat_sma,tfidfmat_sma)"
   ]
  },
  {
   "cell_type": "code",
   "execution_count": 55,
   "metadata": {},
   "outputs": [],
   "source": [
    "###DOES NOT WORK\n",
    "def movie_rec_old(title):\n",
    "    mov=md_top.loc[md_top['title'].str.lower()==title.lower()]\n",
    "    args=np.argsort(cosine_sim[mov.index[0]])\n",
    "    args=args[-31:]\n",
    "    for i in args:\n",
    "        print(md_top.loc[md_top.index==i]['title'])"
   ]
  },
  {
   "cell_type": "code",
   "execution_count": 56,
   "metadata": {},
   "outputs": [],
   "source": [
    "md_top=md_top.reset_index()"
   ]
  },
  {
   "cell_type": "code",
   "execution_count": 57,
   "metadata": {},
   "outputs": [],
   "source": [
    "#titles.columns=['movie']\n",
    "titles=md_top['title']\n"
   ]
  },
  {
   "cell_type": "code",
   "execution_count": 58,
   "metadata": {},
   "outputs": [],
   "source": [
    "indices=pd.Series(md_top.index,index=md_top['title'].str.lower())\n",
    "#indices"
   ]
  },
  {
   "cell_type": "code",
   "execution_count": 59,
   "metadata": {},
   "outputs": [],
   "source": [
    "#MOVIE RECOMMENDER FUNCTION\n",
    "def movie_rec(title):\n",
    "    idx=indices[title.lower()]\n",
    "    if isinstance(idx, pd.Series):\n",
    "        idx=idx.values[0]\n",
    "    args=np.argsort(cosine_sim[idx])\n",
    "    print(cosine_sim[idx])\n",
    "    args=args[-31:]\n",
    "    args=reversed(args)\n",
    "    inds=[i for i in args]\n",
    "    return titles.iloc[inds]\n",
    "        "
   ]
  },
  {
   "cell_type": "code",
   "execution_count": 60,
   "metadata": {
    "scrolled": false
   },
   "outputs": [],
   "source": [
    "#movie_rec('the dark knight')\n",
    "#titles.loc[titles.str.contains('batman')]\n",
    "#md_top.loc[md_top['title'].str.contains('Batman')]\n"
   ]
  },
  {
   "cell_type": "markdown",
   "metadata": {},
   "source": [
    "-----------------------Metadata Based Reccommender-------------------------"
   ]
  },
  {
   "cell_type": "code",
   "execution_count": 61,
   "metadata": {},
   "outputs": [],
   "source": [
    "credits=pd.read_csv(\"./data/credits.csv\")\n",
    "#credits.head()"
   ]
  },
  {
   "cell_type": "code",
   "execution_count": 62,
   "metadata": {},
   "outputs": [],
   "source": [
    "keywords=pd.read_csv(\"./data/keywords.csv\")\n",
    "pd.options.display.max_colwidth=500\n",
    "#keywords.head()"
   ]
  },
  {
   "cell_type": "code",
   "execution_count": 63,
   "metadata": {},
   "outputs": [
    {
     "data": {
      "text/plain": [
       "(21774, 28)"
      ]
     },
     "execution_count": 63,
     "metadata": {},
     "output_type": "execute_result"
    }
   ],
   "source": [
    "md_top['id']=md_top['id'].astype(int)\n",
    "md_top.shape"
   ]
  },
  {
   "cell_type": "code",
   "execution_count": 64,
   "metadata": {},
   "outputs": [
    {
     "data": {
      "text/plain": [
       "(22286, 31)"
      ]
     },
     "execution_count": 64,
     "metadata": {},
     "output_type": "execute_result"
    }
   ],
   "source": [
    "md_top=md_top.merge(credits,on='id')\n",
    "md_top=md_top.merge(keywords,on='id')\n",
    "md_top.shape"
   ]
  },
  {
   "cell_type": "code",
   "execution_count": 65,
   "metadata": {},
   "outputs": [],
   "source": [
    "md_top['cast']=md_top['cast'].apply(literal_eval)"
   ]
  },
  {
   "cell_type": "code",
   "execution_count": 66,
   "metadata": {},
   "outputs": [],
   "source": [
    "md_top['crew']=md_top['crew'].apply(literal_eval)\n"
   ]
  },
  {
   "cell_type": "code",
   "execution_count": 67,
   "metadata": {},
   "outputs": [],
   "source": [
    "md_top['keywords']=md_top['keywords'].apply(literal_eval)"
   ]
  },
  {
   "cell_type": "code",
   "execution_count": 68,
   "metadata": {},
   "outputs": [],
   "source": [
    "#md_top['crew'][0]"
   ]
  },
  {
   "cell_type": "code",
   "execution_count": 75,
   "metadata": {},
   "outputs": [],
   "source": [
    "def getdirector(x):\n",
    "    for i in x:\n",
    "        if i['job']=='Director':\n",
    "            return i['name']"
   ]
  },
  {
   "cell_type": "code",
   "execution_count": 76,
   "metadata": {},
   "outputs": [
    {
     "data": {
      "text/plain": [
       "'John Lasseter'"
      ]
     },
     "execution_count": 76,
     "metadata": {},
     "output_type": "execute_result"
    }
   ],
   "source": [
    "getdirector(md_top['crew'][0])"
   ]
  },
  {
   "cell_type": "code",
   "execution_count": 153,
   "metadata": {},
   "outputs": [],
   "source": [
    "md_top['director']=md_top['crew'].apply(getdirector)\n",
    "md_top['Director_']=md_top['crew'].apply(getdirector)"
   ]
  },
  {
   "cell_type": "code",
   "execution_count": 78,
   "metadata": {
    "scrolled": true
   },
   "outputs": [],
   "source": [
    "#md_top['cast'][0]"
   ]
  },
  {
   "cell_type": "code",
   "execution_count": 79,
   "metadata": {},
   "outputs": [],
   "source": [
    "def getcast(x):\n",
    "    names=[] \n",
    "    for i in x:\n",
    "        names.append(i['name'])\n",
    "    if len(names)>3:\n",
    "        names=names[:3] \n",
    "    return names"
   ]
  },
  {
   "cell_type": "code",
   "execution_count": 80,
   "metadata": {},
   "outputs": [
    {
     "data": {
      "text/plain": [
       "['Tom Hanks', 'Tim Allen', 'Don Rickles']"
      ]
     },
     "execution_count": 80,
     "metadata": {},
     "output_type": "execute_result"
    }
   ],
   "source": [
    "getcast(md_top['cast'][0])"
   ]
  },
  {
   "cell_type": "code",
   "execution_count": 159,
   "metadata": {},
   "outputs": [],
   "source": [
    "md_top['cast']=md_top['cast'].apply(getcast)\n"
   ]
  },
  {
   "cell_type": "code",
   "execution_count": 82,
   "metadata": {},
   "outputs": [],
   "source": [
    "#md_top['keywords'][0]"
   ]
  },
  {
   "cell_type": "code",
   "execution_count": 83,
   "metadata": {},
   "outputs": [],
   "source": [
    "md_top['keywords'] = md_top['keywords'].apply(lambda x: [i['name'] for i in x] if isinstance(x,list) else [])\n",
    "#md_top['keywords']\n"
   ]
  },
  {
   "cell_type": "code",
   "execution_count": 84,
   "metadata": {},
   "outputs": [],
   "source": [
    "md_top['cast']=md_top['cast'].apply(lambda x: [str.lower(i.replace(\" \",\"\")) for i in x] )\n"
   ]
  },
  {
   "cell_type": "code",
   "execution_count": 85,
   "metadata": {},
   "outputs": [],
   "source": [
    "md_top['director']=md_top['director'].apply(lambda x: str.lower(x.replace(\" \",\"\"))  if  isinstance(x, str) else [])\n"
   ]
  },
  {
   "cell_type": "code",
   "execution_count": 86,
   "metadata": {},
   "outputs": [],
   "source": [
    "#"
   ]
  },
  {
   "cell_type": "code",
   "execution_count": 87,
   "metadata": {},
   "outputs": [
    {
     "data": {
      "text/plain": [
       "'single moth'"
      ]
     },
     "execution_count": 87,
     "metadata": {},
     "output_type": "execute_result"
    }
   ],
   "source": [
    "# therefore rejected stemmer :p\n",
    "stemmer=SnowballStemmer('english')\n",
    "stemmer.stem('single mother')"
   ]
  },
  {
   "cell_type": "code",
   "execution_count": 88,
   "metadata": {},
   "outputs": [],
   "source": [
    "#md_top['keywords']=md_top['keywords'].apply(lambda x: [stemmer.stem(i) for i in x]  )"
   ]
  },
  {
   "cell_type": "code",
   "execution_count": 89,
   "metadata": {},
   "outputs": [],
   "source": [
    "md_top['keywords']=md_top['keywords'].apply(lambda x: [str.lower(i.replace(\" \",\"\")) for i in x] )\n"
   ]
  },
  {
   "cell_type": "code",
   "execution_count": 90,
   "metadata": {},
   "outputs": [],
   "source": [
    "#md_top['soup']=md['d']\n",
    "md_top['soup']=md_top['director'].apply(lambda x: [x,x,x]) + md_top['cast'] +md_top['keywords']"
   ]
  },
  {
   "cell_type": "code",
   "execution_count": 91,
   "metadata": {
    "scrolled": false
   },
   "outputs": [],
   "source": [
    "def joinlist(x):\n",
    "    l=\"\"\n",
    "    for i in x:\n",
    "        #print(i)\n",
    "        try :\n",
    "            l+= i + \" \"\n",
    "        except:\n",
    "            l=\"\"\n",
    "    return l\n",
    "l=joinlist(md_top['soup'][0])\n"
   ]
  },
  {
   "cell_type": "code",
   "execution_count": 92,
   "metadata": {},
   "outputs": [],
   "source": [
    "#shit code\n",
    "#for i in range(md_top.shape[0]):\n",
    " #   md_top['soup'].iloc[i]=joinlist(md_top['soup'][i])\n",
    "  #  print(joinlist(md_top['soup'][i]))\n"
   ]
  },
  {
   "cell_type": "code",
   "execution_count": 93,
   "metadata": {},
   "outputs": [],
   "source": [
    "#md_top.to_csv('./data/md_top.csv')\n",
    "#md_top=pd.read_csv('./data/md_top.csv')\n",
    "md_top['soup']=md_top['soup'].apply(joinlist)"
   ]
  },
  {
   "cell_type": "code",
   "execution_count": 166,
   "metadata": {},
   "outputs": [],
   "source": [
    "#COUNT VECTORISER METHOD\n",
    "countvectoriser=CountVectorizer(analyzer='word',ngram_range=(1, 2),min_df=0, stop_words='english')"
   ]
  },
  {
   "cell_type": "code",
   "execution_count": 188,
   "metadata": {},
   "outputs": [],
   "source": [
    "countmat=countvectoriser.fit_transform(md_top['soup'])"
   ]
  },
  {
   "cell_type": "code",
   "execution_count": 190,
   "metadata": {},
   "outputs": [
    {
     "data": {
      "text/plain": [
       "(22286, 200050)"
      ]
     },
     "execution_count": 190,
     "metadata": {},
     "output_type": "execute_result"
    }
   ],
   "source": [
    "countmat.shape"
   ]
  },
  {
   "cell_type": "code",
   "execution_count": 189,
   "metadata": {},
   "outputs": [
    {
     "ename": "MemoryError",
     "evalue": "",
     "output_type": "error",
     "traceback": [
      "\u001b[0;31m---------------------------------------------------------------------------\u001b[0m",
      "\u001b[0;31mMemoryError\u001b[0m                               Traceback (most recent call last)",
      "\u001b[0;32m<ipython-input-189-fb9d4c6d3eb7>\u001b[0m in \u001b[0;36m<module>\u001b[0;34m\u001b[0m\n\u001b[0;32m----> 1\u001b[0;31m \u001b[0mlin_ker_cv\u001b[0m\u001b[0;34m=\u001b[0m\u001b[0mlinear_kernel\u001b[0m\u001b[0;34m(\u001b[0m\u001b[0mcountmat\u001b[0m\u001b[0;34m,\u001b[0m\u001b[0mcountmat\u001b[0m\u001b[0;34m)\u001b[0m\u001b[0;34m\u001b[0m\u001b[0;34m\u001b[0m\u001b[0m\n\u001b[0m",
      "\u001b[0;32m~/anaconda3/lib/python3.7/site-packages/sklearn/metrics/pairwise.py\u001b[0m in \u001b[0;36mlinear_kernel\u001b[0;34m(X, Y, dense_output)\u001b[0m\n\u001b[1;32m    719\u001b[0m     \"\"\"\n\u001b[1;32m    720\u001b[0m     \u001b[0mX\u001b[0m\u001b[0;34m,\u001b[0m \u001b[0mY\u001b[0m \u001b[0;34m=\u001b[0m \u001b[0mcheck_pairwise_arrays\u001b[0m\u001b[0;34m(\u001b[0m\u001b[0mX\u001b[0m\u001b[0;34m,\u001b[0m \u001b[0mY\u001b[0m\u001b[0;34m)\u001b[0m\u001b[0;34m\u001b[0m\u001b[0;34m\u001b[0m\u001b[0m\n\u001b[0;32m--> 721\u001b[0;31m     \u001b[0;32mreturn\u001b[0m \u001b[0msafe_sparse_dot\u001b[0m\u001b[0;34m(\u001b[0m\u001b[0mX\u001b[0m\u001b[0;34m,\u001b[0m \u001b[0mY\u001b[0m\u001b[0;34m.\u001b[0m\u001b[0mT\u001b[0m\u001b[0;34m,\u001b[0m \u001b[0mdense_output\u001b[0m\u001b[0;34m=\u001b[0m\u001b[0mdense_output\u001b[0m\u001b[0;34m)\u001b[0m\u001b[0;34m\u001b[0m\u001b[0;34m\u001b[0m\u001b[0m\n\u001b[0m\u001b[1;32m    722\u001b[0m \u001b[0;34m\u001b[0m\u001b[0m\n\u001b[1;32m    723\u001b[0m \u001b[0;34m\u001b[0m\u001b[0m\n",
      "\u001b[0;32m~/anaconda3/lib/python3.7/site-packages/sklearn/utils/extmath.py\u001b[0m in \u001b[0;36msafe_sparse_dot\u001b[0;34m(a, b, dense_output)\u001b[0m\n\u001b[1;32m    168\u001b[0m         \u001b[0mret\u001b[0m \u001b[0;34m=\u001b[0m \u001b[0ma\u001b[0m \u001b[0;34m*\u001b[0m \u001b[0mb\u001b[0m\u001b[0;34m\u001b[0m\u001b[0;34m\u001b[0m\u001b[0m\n\u001b[1;32m    169\u001b[0m         \u001b[0;32mif\u001b[0m \u001b[0mdense_output\u001b[0m \u001b[0;32mand\u001b[0m \u001b[0mhasattr\u001b[0m\u001b[0;34m(\u001b[0m\u001b[0mret\u001b[0m\u001b[0;34m,\u001b[0m \u001b[0;34m\"toarray\"\u001b[0m\u001b[0;34m)\u001b[0m\u001b[0;34m:\u001b[0m\u001b[0;34m\u001b[0m\u001b[0;34m\u001b[0m\u001b[0m\n\u001b[0;32m--> 170\u001b[0;31m             \u001b[0mret\u001b[0m \u001b[0;34m=\u001b[0m \u001b[0mret\u001b[0m\u001b[0;34m.\u001b[0m\u001b[0mtoarray\u001b[0m\u001b[0;34m(\u001b[0m\u001b[0;34m)\u001b[0m\u001b[0;34m\u001b[0m\u001b[0;34m\u001b[0m\u001b[0m\n\u001b[0m\u001b[1;32m    171\u001b[0m         \u001b[0;32mreturn\u001b[0m \u001b[0mret\u001b[0m\u001b[0;34m\u001b[0m\u001b[0;34m\u001b[0m\u001b[0m\n\u001b[1;32m    172\u001b[0m     \u001b[0;32melse\u001b[0m\u001b[0;34m:\u001b[0m\u001b[0;34m\u001b[0m\u001b[0;34m\u001b[0m\u001b[0m\n",
      "\u001b[0;32m~/anaconda3/lib/python3.7/site-packages/scipy/sparse/compressed.py\u001b[0m in \u001b[0;36mtoarray\u001b[0;34m(self, order, out)\u001b[0m\n\u001b[1;32m    960\u001b[0m         \u001b[0;32mif\u001b[0m \u001b[0mout\u001b[0m \u001b[0;32mis\u001b[0m \u001b[0;32mNone\u001b[0m \u001b[0;32mand\u001b[0m \u001b[0morder\u001b[0m \u001b[0;32mis\u001b[0m \u001b[0;32mNone\u001b[0m\u001b[0;34m:\u001b[0m\u001b[0;34m\u001b[0m\u001b[0;34m\u001b[0m\u001b[0m\n\u001b[1;32m    961\u001b[0m             \u001b[0morder\u001b[0m \u001b[0;34m=\u001b[0m \u001b[0mself\u001b[0m\u001b[0;34m.\u001b[0m\u001b[0m_swap\u001b[0m\u001b[0;34m(\u001b[0m\u001b[0;34m'cf'\u001b[0m\u001b[0;34m)\u001b[0m\u001b[0;34m[\u001b[0m\u001b[0;36m0\u001b[0m\u001b[0;34m]\u001b[0m\u001b[0;34m\u001b[0m\u001b[0;34m\u001b[0m\u001b[0m\n\u001b[0;32m--> 962\u001b[0;31m         \u001b[0mout\u001b[0m \u001b[0;34m=\u001b[0m \u001b[0mself\u001b[0m\u001b[0;34m.\u001b[0m\u001b[0m_process_toarray_args\u001b[0m\u001b[0;34m(\u001b[0m\u001b[0morder\u001b[0m\u001b[0;34m,\u001b[0m \u001b[0mout\u001b[0m\u001b[0;34m)\u001b[0m\u001b[0;34m\u001b[0m\u001b[0;34m\u001b[0m\u001b[0m\n\u001b[0m\u001b[1;32m    963\u001b[0m         \u001b[0;32mif\u001b[0m \u001b[0;32mnot\u001b[0m \u001b[0;34m(\u001b[0m\u001b[0mout\u001b[0m\u001b[0;34m.\u001b[0m\u001b[0mflags\u001b[0m\u001b[0;34m.\u001b[0m\u001b[0mc_contiguous\u001b[0m \u001b[0;32mor\u001b[0m \u001b[0mout\u001b[0m\u001b[0;34m.\u001b[0m\u001b[0mflags\u001b[0m\u001b[0;34m.\u001b[0m\u001b[0mf_contiguous\u001b[0m\u001b[0;34m)\u001b[0m\u001b[0;34m:\u001b[0m\u001b[0;34m\u001b[0m\u001b[0;34m\u001b[0m\u001b[0m\n\u001b[1;32m    964\u001b[0m             \u001b[0;32mraise\u001b[0m \u001b[0mValueError\u001b[0m\u001b[0;34m(\u001b[0m\u001b[0;34m'Output array must be C or F contiguous'\u001b[0m\u001b[0;34m)\u001b[0m\u001b[0;34m\u001b[0m\u001b[0;34m\u001b[0m\u001b[0m\n",
      "\u001b[0;32m~/anaconda3/lib/python3.7/site-packages/scipy/sparse/base.py\u001b[0m in \u001b[0;36m_process_toarray_args\u001b[0;34m(self, order, out)\u001b[0m\n\u001b[1;32m   1185\u001b[0m             \u001b[0;32mreturn\u001b[0m \u001b[0mout\u001b[0m\u001b[0;34m\u001b[0m\u001b[0;34m\u001b[0m\u001b[0m\n\u001b[1;32m   1186\u001b[0m         \u001b[0;32melse\u001b[0m\u001b[0;34m:\u001b[0m\u001b[0;34m\u001b[0m\u001b[0;34m\u001b[0m\u001b[0m\n\u001b[0;32m-> 1187\u001b[0;31m             \u001b[0;32mreturn\u001b[0m \u001b[0mnp\u001b[0m\u001b[0;34m.\u001b[0m\u001b[0mzeros\u001b[0m\u001b[0;34m(\u001b[0m\u001b[0mself\u001b[0m\u001b[0;34m.\u001b[0m\u001b[0mshape\u001b[0m\u001b[0;34m,\u001b[0m \u001b[0mdtype\u001b[0m\u001b[0;34m=\u001b[0m\u001b[0mself\u001b[0m\u001b[0;34m.\u001b[0m\u001b[0mdtype\u001b[0m\u001b[0;34m,\u001b[0m \u001b[0morder\u001b[0m\u001b[0;34m=\u001b[0m\u001b[0morder\u001b[0m\u001b[0;34m)\u001b[0m\u001b[0;34m\u001b[0m\u001b[0;34m\u001b[0m\u001b[0m\n\u001b[0m\u001b[1;32m   1188\u001b[0m \u001b[0;34m\u001b[0m\u001b[0m\n\u001b[1;32m   1189\u001b[0m \u001b[0;34m\u001b[0m\u001b[0m\n",
      "\u001b[0;31mMemoryError\u001b[0m: "
     ]
    }
   ],
   "source": [
    "lin_ker_cv=linear_kernel(countmat,countmat)"
   ]
  },
  {
   "cell_type": "code",
   "execution_count": 178,
   "metadata": {},
   "outputs": [],
   "source": [
    "#titles_cv = md_top['title']\n",
    "#indices_cv = pd.Series(md_top.index, index=md_top['title'])"
   ]
  },
  {
   "cell_type": "code",
   "execution_count": 94,
   "metadata": {},
   "outputs": [],
   "source": [
    "def movie_rec_cv(title):\n",
    "    idx=indices[title.lower()]\n",
    "    if isinstance(idx, pd.Series):\n",
    "        idx=idx.values[0]\n",
    "    args=np.argsort(cosinr_sim_cv[idx])\n",
    "    print(cosinr_sim_cv[idx])\n",
    "    args=args[-31:]\n",
    "    args=reversed(args)\n",
    "    inds=[i for i in args]\n",
    "    return titles_cv.iloc[inds]\n",
    "        "
   ]
  },
  {
   "cell_type": "code",
   "execution_count": 175,
   "metadata": {},
   "outputs": [],
   "source": [
    "ind =indices['inception']\n",
    "cosine_sim_cv[0]\n",
    "#mdttt=pd.read_csv('./md_top.csv')"
   ]
  },
  {
   "cell_type": "code",
   "execution_count": 119,
   "metadata": {},
   "outputs": [],
   "source": [
    "####TFIDF\n",
    "tf2=TfidfVectorizer(analyzer='word',min_df=0, stop_words='english', ngram_range=(1,1))"
   ]
  },
  {
   "cell_type": "code",
   "execution_count": 177,
   "metadata": {},
   "outputs": [],
   "source": [
    "tfidfmat2=tf2.fit_transform(md_top['soup'])"
   ]
  },
  {
   "cell_type": "code",
   "execution_count": 122,
   "metadata": {},
   "outputs": [
    {
     "data": {
      "text/plain": [
       "(22286, 200050)"
      ]
     },
     "execution_count": 122,
     "metadata": {},
     "output_type": "execute_result"
    }
   ],
   "source": [
    "tfidfmat2.shape"
   ]
  },
  {
   "cell_type": "code",
   "execution_count": 121,
   "metadata": {},
   "outputs": [
    {
     "ename": "MemoryError",
     "evalue": "",
     "output_type": "error",
     "traceback": [
      "\u001b[0;31m---------------------------------------------------------------------------\u001b[0m",
      "\u001b[0;31mMemoryError\u001b[0m                               Traceback (most recent call last)",
      "\u001b[0;32m<ipython-input-121-081e6a512049>\u001b[0m in \u001b[0;36m<module>\u001b[0;34m\u001b[0m\n\u001b[0;32m----> 1\u001b[0;31m \u001b[0msim_mat\u001b[0m\u001b[0;34m=\u001b[0m\u001b[0mlinear_kernel\u001b[0m\u001b[0;34m(\u001b[0m\u001b[0mtfidfmat2\u001b[0m\u001b[0;34m,\u001b[0m\u001b[0mtfidfmat2\u001b[0m\u001b[0;34m)\u001b[0m\u001b[0;34m\u001b[0m\u001b[0;34m\u001b[0m\u001b[0m\n\u001b[0m",
      "\u001b[0;32m~/anaconda3/lib/python3.7/site-packages/sklearn/metrics/pairwise.py\u001b[0m in \u001b[0;36mlinear_kernel\u001b[0;34m(X, Y, dense_output)\u001b[0m\n\u001b[1;32m    719\u001b[0m     \"\"\"\n\u001b[1;32m    720\u001b[0m     \u001b[0mX\u001b[0m\u001b[0;34m,\u001b[0m \u001b[0mY\u001b[0m \u001b[0;34m=\u001b[0m \u001b[0mcheck_pairwise_arrays\u001b[0m\u001b[0;34m(\u001b[0m\u001b[0mX\u001b[0m\u001b[0;34m,\u001b[0m \u001b[0mY\u001b[0m\u001b[0;34m)\u001b[0m\u001b[0;34m\u001b[0m\u001b[0;34m\u001b[0m\u001b[0m\n\u001b[0;32m--> 721\u001b[0;31m     \u001b[0;32mreturn\u001b[0m \u001b[0msafe_sparse_dot\u001b[0m\u001b[0;34m(\u001b[0m\u001b[0mX\u001b[0m\u001b[0;34m,\u001b[0m \u001b[0mY\u001b[0m\u001b[0;34m.\u001b[0m\u001b[0mT\u001b[0m\u001b[0;34m,\u001b[0m \u001b[0mdense_output\u001b[0m\u001b[0;34m=\u001b[0m\u001b[0mdense_output\u001b[0m\u001b[0;34m)\u001b[0m\u001b[0;34m\u001b[0m\u001b[0;34m\u001b[0m\u001b[0m\n\u001b[0m\u001b[1;32m    722\u001b[0m \u001b[0;34m\u001b[0m\u001b[0m\n\u001b[1;32m    723\u001b[0m \u001b[0;34m\u001b[0m\u001b[0m\n",
      "\u001b[0;32m~/anaconda3/lib/python3.7/site-packages/sklearn/utils/extmath.py\u001b[0m in \u001b[0;36msafe_sparse_dot\u001b[0;34m(a, b, dense_output)\u001b[0m\n\u001b[1;32m    168\u001b[0m         \u001b[0mret\u001b[0m \u001b[0;34m=\u001b[0m \u001b[0ma\u001b[0m \u001b[0;34m*\u001b[0m \u001b[0mb\u001b[0m\u001b[0;34m\u001b[0m\u001b[0;34m\u001b[0m\u001b[0m\n\u001b[1;32m    169\u001b[0m         \u001b[0;32mif\u001b[0m \u001b[0mdense_output\u001b[0m \u001b[0;32mand\u001b[0m \u001b[0mhasattr\u001b[0m\u001b[0;34m(\u001b[0m\u001b[0mret\u001b[0m\u001b[0;34m,\u001b[0m \u001b[0;34m\"toarray\"\u001b[0m\u001b[0;34m)\u001b[0m\u001b[0;34m:\u001b[0m\u001b[0;34m\u001b[0m\u001b[0;34m\u001b[0m\u001b[0m\n\u001b[0;32m--> 170\u001b[0;31m             \u001b[0mret\u001b[0m \u001b[0;34m=\u001b[0m \u001b[0mret\u001b[0m\u001b[0;34m.\u001b[0m\u001b[0mtoarray\u001b[0m\u001b[0;34m(\u001b[0m\u001b[0;34m)\u001b[0m\u001b[0;34m\u001b[0m\u001b[0;34m\u001b[0m\u001b[0m\n\u001b[0m\u001b[1;32m    171\u001b[0m         \u001b[0;32mreturn\u001b[0m \u001b[0mret\u001b[0m\u001b[0;34m\u001b[0m\u001b[0;34m\u001b[0m\u001b[0m\n\u001b[1;32m    172\u001b[0m     \u001b[0;32melse\u001b[0m\u001b[0;34m:\u001b[0m\u001b[0;34m\u001b[0m\u001b[0;34m\u001b[0m\u001b[0m\n",
      "\u001b[0;32m~/anaconda3/lib/python3.7/site-packages/scipy/sparse/compressed.py\u001b[0m in \u001b[0;36mtoarray\u001b[0;34m(self, order, out)\u001b[0m\n\u001b[1;32m    960\u001b[0m         \u001b[0;32mif\u001b[0m \u001b[0mout\u001b[0m \u001b[0;32mis\u001b[0m \u001b[0;32mNone\u001b[0m \u001b[0;32mand\u001b[0m \u001b[0morder\u001b[0m \u001b[0;32mis\u001b[0m \u001b[0;32mNone\u001b[0m\u001b[0;34m:\u001b[0m\u001b[0;34m\u001b[0m\u001b[0;34m\u001b[0m\u001b[0m\n\u001b[1;32m    961\u001b[0m             \u001b[0morder\u001b[0m \u001b[0;34m=\u001b[0m \u001b[0mself\u001b[0m\u001b[0;34m.\u001b[0m\u001b[0m_swap\u001b[0m\u001b[0;34m(\u001b[0m\u001b[0;34m'cf'\u001b[0m\u001b[0;34m)\u001b[0m\u001b[0;34m[\u001b[0m\u001b[0;36m0\u001b[0m\u001b[0;34m]\u001b[0m\u001b[0;34m\u001b[0m\u001b[0;34m\u001b[0m\u001b[0m\n\u001b[0;32m--> 962\u001b[0;31m         \u001b[0mout\u001b[0m \u001b[0;34m=\u001b[0m \u001b[0mself\u001b[0m\u001b[0;34m.\u001b[0m\u001b[0m_process_toarray_args\u001b[0m\u001b[0;34m(\u001b[0m\u001b[0morder\u001b[0m\u001b[0;34m,\u001b[0m \u001b[0mout\u001b[0m\u001b[0;34m)\u001b[0m\u001b[0;34m\u001b[0m\u001b[0;34m\u001b[0m\u001b[0m\n\u001b[0m\u001b[1;32m    963\u001b[0m         \u001b[0;32mif\u001b[0m \u001b[0;32mnot\u001b[0m \u001b[0;34m(\u001b[0m\u001b[0mout\u001b[0m\u001b[0;34m.\u001b[0m\u001b[0mflags\u001b[0m\u001b[0;34m.\u001b[0m\u001b[0mc_contiguous\u001b[0m \u001b[0;32mor\u001b[0m \u001b[0mout\u001b[0m\u001b[0;34m.\u001b[0m\u001b[0mflags\u001b[0m\u001b[0;34m.\u001b[0m\u001b[0mf_contiguous\u001b[0m\u001b[0;34m)\u001b[0m\u001b[0;34m:\u001b[0m\u001b[0;34m\u001b[0m\u001b[0;34m\u001b[0m\u001b[0m\n\u001b[1;32m    964\u001b[0m             \u001b[0;32mraise\u001b[0m \u001b[0mValueError\u001b[0m\u001b[0;34m(\u001b[0m\u001b[0;34m'Output array must be C or F contiguous'\u001b[0m\u001b[0;34m)\u001b[0m\u001b[0;34m\u001b[0m\u001b[0;34m\u001b[0m\u001b[0m\n",
      "\u001b[0;32m~/anaconda3/lib/python3.7/site-packages/scipy/sparse/base.py\u001b[0m in \u001b[0;36m_process_toarray_args\u001b[0;34m(self, order, out)\u001b[0m\n\u001b[1;32m   1185\u001b[0m             \u001b[0;32mreturn\u001b[0m \u001b[0mout\u001b[0m\u001b[0;34m\u001b[0m\u001b[0;34m\u001b[0m\u001b[0m\n\u001b[1;32m   1186\u001b[0m         \u001b[0;32melse\u001b[0m\u001b[0;34m:\u001b[0m\u001b[0;34m\u001b[0m\u001b[0;34m\u001b[0m\u001b[0m\n\u001b[0;32m-> 1187\u001b[0;31m             \u001b[0;32mreturn\u001b[0m \u001b[0mnp\u001b[0m\u001b[0;34m.\u001b[0m\u001b[0mzeros\u001b[0m\u001b[0;34m(\u001b[0m\u001b[0mself\u001b[0m\u001b[0;34m.\u001b[0m\u001b[0mshape\u001b[0m\u001b[0;34m,\u001b[0m \u001b[0mdtype\u001b[0m\u001b[0;34m=\u001b[0m\u001b[0mself\u001b[0m\u001b[0;34m.\u001b[0m\u001b[0mdtype\u001b[0m\u001b[0;34m,\u001b[0m \u001b[0morder\u001b[0m\u001b[0;34m=\u001b[0m\u001b[0morder\u001b[0m\u001b[0;34m)\u001b[0m\u001b[0;34m\u001b[0m\u001b[0;34m\u001b[0m\u001b[0m\n\u001b[0m\u001b[1;32m   1188\u001b[0m \u001b[0;34m\u001b[0m\u001b[0m\n\u001b[1;32m   1189\u001b[0m \u001b[0;34m\u001b[0m\u001b[0m\n",
      "\u001b[0;31mMemoryError\u001b[0m: "
     ]
    }
   ],
   "source": [
    "sim_mat=linear_kernel(tfidfmat2,tfidfmat2)"
   ]
  },
  {
   "cell_type": "code",
   "execution_count": 112,
   "metadata": {},
   "outputs": [],
   "source": [
    "titles=md_top['title']\n"
   ]
  },
  {
   "cell_type": "code",
   "execution_count": 113,
   "metadata": {},
   "outputs": [],
   "source": [
    "indices=pd.Series(md_top.index,index=md_top['title'].str.lower())"
   ]
  },
  {
   "cell_type": "code",
   "execution_count": 163,
   "metadata": {},
   "outputs": [],
   "source": [
    "#MOVIE RECOMMENDER FUNCTION\n",
    "def movie_rec2(title):\n",
    "    idx=indices[title.lower()]\n",
    "    if isinstance(idx, pd.Series):\n",
    "        idx=idx.values[0]\n",
    "    args=np.argsort(sim_mat[idx])\n",
    "    #print(sim_mat[idx])\n",
    "    args=args[-31:]\n",
    "    args=reversed(args)\n",
    "    inds=[i for i in args]\n",
    "    return titles.iloc[inds]\n",
    "        "
   ]
  },
  {
   "cell_type": "code",
   "execution_count": 164,
   "metadata": {},
   "outputs": [
    {
     "data": {
      "text/plain": [
       "the dark knight     7528\n",
       "the dark knight    14978\n",
       "dtype: int64"
      ]
     },
     "execution_count": 164,
     "metadata": {},
     "output_type": "execute_result"
    }
   ],
   "source": [
    "#movie_rec2('the dark knight')\n",
    "indices['the dark knight']\n",
    "#md_top.iloc[7475]"
   ]
  },
  {
   "cell_type": "code",
   "execution_count": 165,
   "metadata": {},
   "outputs": [
    {
     "data": {
      "text/plain": [
       "577                                Cinderella\n",
       "11673             The Legend of Sleepy Hollow\n",
       "2225                              Melody Time\n",
       "1209                          Sleeping Beauty\n",
       "10184                     Education for Death\n",
       "1204                                Peter Pan\n",
       "14966                              Cinderella\n",
       "12846                       The Glass Slipper\n",
       "11925                      Sign 'o' the Times\n",
       "1231           Ever After: A Cinderella Story\n",
       "20273    A Cinderella Story: If the Shoe Fits\n",
       "10562                Another Cinderella Story\n",
       "15052                         Sleeping Beauty\n",
       "4567                                 The Swan\n",
       "15688             Three Wishes for Cinderella\n",
       "6811                          Pan's Labyrinth\n",
       "338                      Beauty and the Beast\n",
       "10033                       Midnight in Paris\n",
       "2125                 The Slipper and the Rose\n",
       "13723    A Cinderella Story: Once Upon a Song\n",
       "20450                              Music Land\n",
       "367                 James and the Giant Peach\n",
       "7879                               Cinderella\n",
       "2505                                    Shrek\n",
       "21765                                   Irene\n",
       "1245       An American Tail: Fievel Goes West\n",
       "331                                   Aladdin\n",
       "4708                       A Cinderella Story\n",
       "1199                       The Little Mermaid\n",
       "14377                      The Student Prince\n",
       "2088                              Auntie Mame\n",
       "Name: title, dtype: object"
      ]
     },
     "execution_count": 165,
     "metadata": {},
     "output_type": "execute_result"
    }
   ],
   "source": [
    "movie_rec2('cinderella')"
   ]
  },
  {
   "cell_type": "code",
   "execution_count": 145,
   "metadata": {},
   "outputs": [],
   "source": [
    "md_top['wr']=md_top.apply(weightedMean,axis=1)"
   ]
  },
  {
   "cell_type": "code",
   "execution_count": 166,
   "metadata": {},
   "outputs": [],
   "source": [
    "#MOVIE RECOMMENDER FUNCTION FINAL\n",
    "def movie_recf(title):\n",
    "    idx=indices[title.lower()]\n",
    "    if isinstance(idx, pd.Series):\n",
    "        idx=idx.values[0]\n",
    "    args=np.argsort(sim_mat[idx])\n",
    "    #print(sim_mat[idx])\n",
    "    args=args[-31:]\n",
    "    args=reversed(args)\n",
    "    inds=[i for i in args]\n",
    "    movies= md_top.loc[inds][['title','Director_','cast','vote_average','wr']]\n",
    "    movies =movies.sort_values('wr',ascending=False)\n",
    "    return movies"
   ]
  },
  {
   "cell_type": "code",
   "execution_count": 168,
   "metadata": {},
   "outputs": [
    {
     "data": {
      "text/html": [
       "<div>\n",
       "<style scoped>\n",
       "    .dataframe tbody tr th:only-of-type {\n",
       "        vertical-align: middle;\n",
       "    }\n",
       "\n",
       "    .dataframe tbody tr th {\n",
       "        vertical-align: top;\n",
       "    }\n",
       "\n",
       "    .dataframe thead th {\n",
       "        text-align: right;\n",
       "    }\n",
       "</style>\n",
       "<table border=\"1\" class=\"dataframe\">\n",
       "  <thead>\n",
       "    <tr style=\"text-align: right;\">\n",
       "      <th></th>\n",
       "      <th>title</th>\n",
       "      <th>Director_</th>\n",
       "      <th>cast</th>\n",
       "      <th>vote_average</th>\n",
       "      <th>wr</th>\n",
       "    </tr>\n",
       "  </thead>\n",
       "  <tbody>\n",
       "    <tr>\n",
       "      <th>38</th>\n",
       "      <td>The Usual Suspects</td>\n",
       "      <td>Bryan Singer</td>\n",
       "      <td>[stephenbaldwin, gabrielbyrne, chazzpalminteri]</td>\n",
       "      <td>8.1</td>\n",
       "      <td>8.040425</td>\n",
       "    </tr>\n",
       "    <tr>\n",
       "      <th>20848</th>\n",
       "      <td>Logan</td>\n",
       "      <td>James Mangold</td>\n",
       "      <td>[hughjackman, patrickstewart, dafnekeen]</td>\n",
       "      <td>7.6</td>\n",
       "      <td>7.574577</td>\n",
       "    </tr>\n",
       "    <tr>\n",
       "      <th>12760</th>\n",
       "      <td>Captain America: The Winter Soldier</td>\n",
       "      <td>Anthony Russo</td>\n",
       "      <td>[chrisevans, samuell.jackson, scarlettjohansson]</td>\n",
       "      <td>7.6</td>\n",
       "      <td>7.572747</td>\n",
       "    </tr>\n",
       "    <tr>\n",
       "      <th>12881</th>\n",
       "      <td>X-Men: Days of Future Past</td>\n",
       "      <td>Bryan Singer</td>\n",
       "      <td>[hughjackman, jamesmcavoy, michaelfassbender]</td>\n",
       "      <td>7.5</td>\n",
       "      <td>7.475259</td>\n",
       "    </tr>\n",
       "    <tr>\n",
       "      <th>10378</th>\n",
       "      <td>The Avengers</td>\n",
       "      <td>Joss Whedon</td>\n",
       "      <td>[robertdowneyjr., chrisevans, markruffalo]</td>\n",
       "      <td>7.4</td>\n",
       "      <td>7.387907</td>\n",
       "    </tr>\n",
       "    <tr>\n",
       "      <th>14142</th>\n",
       "      <td>Deadpool</td>\n",
       "      <td>Tim Miller</td>\n",
       "      <td>[ryanreynolds, morenabaccarin, edskrein]</td>\n",
       "      <td>7.4</td>\n",
       "      <td>7.387324</td>\n",
       "    </tr>\n",
       "    <tr>\n",
       "      <th>7596</th>\n",
       "      <td>Iron Man</td>\n",
       "      <td>Jon Favreau</td>\n",
       "      <td>[robertdowneyjr., terrencehoward, jeffbridges]</td>\n",
       "      <td>7.4</td>\n",
       "      <td>7.383825</td>\n",
       "    </tr>\n",
       "    <tr>\n",
       "      <th>14139</th>\n",
       "      <td>Avengers: Age of Ultron</td>\n",
       "      <td>Joss Whedon</td>\n",
       "      <td>[robertdowneyjr., chrishemsworth, markruffalo]</td>\n",
       "      <td>7.3</td>\n",
       "      <td>7.280271</td>\n",
       "    </tr>\n",
       "    <tr>\n",
       "      <th>14144</th>\n",
       "      <td>Captain America: Civil War</td>\n",
       "      <td>Anthony Russo</td>\n",
       "      <td>[chrisevans, robertdowneyjr., scarlettjohansson]</td>\n",
       "      <td>7.1</td>\n",
       "      <td>7.083894</td>\n",
       "    </tr>\n",
       "    <tr>\n",
       "      <th>14145</th>\n",
       "      <td>Doctor Strange</td>\n",
       "      <td>Scott Derrickson</td>\n",
       "      <td>[benedictcumberbatch, chiwetelejiofor, rachelmcadams]</td>\n",
       "      <td>7.1</td>\n",
       "      <td>7.079620</td>\n",
       "    </tr>\n",
       "    <tr>\n",
       "      <th>10087</th>\n",
       "      <td>X-Men: First Class</td>\n",
       "      <td>Matthew Vaughn</td>\n",
       "      <td>[jamesmcavoy, michaelfassbender, jenniferlawrence]</td>\n",
       "      <td>7.1</td>\n",
       "      <td>7.077220</td>\n",
       "    </tr>\n",
       "    <tr>\n",
       "      <th>14141</th>\n",
       "      <td>Ant-Man</td>\n",
       "      <td>Peyton Reed</td>\n",
       "      <td>[paulrudd, michaeldouglas, evangelinelilly]</td>\n",
       "      <td>7.0</td>\n",
       "      <td>6.981459</td>\n",
       "    </tr>\n",
       "    <tr>\n",
       "      <th>12261</th>\n",
       "      <td>Thor: The Dark World</td>\n",
       "      <td>Alan Taylor</td>\n",
       "      <td>[chrishemsworth, natalieportman, tomhiddleston]</td>\n",
       "      <td>6.8</td>\n",
       "      <td>6.780443</td>\n",
       "    </tr>\n",
       "    <tr>\n",
       "      <th>2234</th>\n",
       "      <td>X-Men</td>\n",
       "      <td>Bryan Singer</td>\n",
       "      <td>[patrickstewart, hughjackman, ianmckellen]</td>\n",
       "      <td>6.8</td>\n",
       "      <td>6.777220</td>\n",
       "    </tr>\n",
       "    <tr>\n",
       "      <th>3616</th>\n",
       "      <td>X2</td>\n",
       "      <td>Bryan Singer</td>\n",
       "      <td>[patrickstewart, hughjackman, ianmckellen]</td>\n",
       "      <td>6.8</td>\n",
       "      <td>6.773479</td>\n",
       "    </tr>\n",
       "    <tr>\n",
       "      <th>7959</th>\n",
       "      <td>Valkyrie</td>\n",
       "      <td>Bryan Singer</td>\n",
       "      <td>[tomcruise, caricevanhouten, kennethbranagh]</td>\n",
       "      <td>6.7</td>\n",
       "      <td>6.630535</td>\n",
       "    </tr>\n",
       "    <tr>\n",
       "      <th>20396</th>\n",
       "      <td>Team Thor</td>\n",
       "      <td>Taika Waititi</td>\n",
       "      <td>[chrishemsworth, markruffalo, daleypearson]</td>\n",
       "      <td>7.5</td>\n",
       "      <td>6.618246</td>\n",
       "    </tr>\n",
       "    <tr>\n",
       "      <th>10194</th>\n",
       "      <td>Captain America: The First Avenger</td>\n",
       "      <td>Joe Johnston</td>\n",
       "      <td>[chrisevans, hugoweaving, tommyleejones]</td>\n",
       "      <td>6.6</td>\n",
       "      <td>6.588905</td>\n",
       "    </tr>\n",
       "    <tr>\n",
       "      <th>8962</th>\n",
       "      <td>Iron Man 2</td>\n",
       "      <td>Jon Favreau</td>\n",
       "      <td>[robertdowneyjr., gwynethpaltrow, doncheadle]</td>\n",
       "      <td>6.6</td>\n",
       "      <td>6.588582</td>\n",
       "    </tr>\n",
       "    <tr>\n",
       "      <th>9951</th>\n",
       "      <td>Thor</td>\n",
       "      <td>Kenneth Branagh</td>\n",
       "      <td>[chrishemsworth, natalieportman, tomhiddleston]</td>\n",
       "      <td>6.6</td>\n",
       "      <td>6.588091</td>\n",
       "    </tr>\n",
       "    <tr>\n",
       "      <th>9299</th>\n",
       "      <td>Superman/Batman: Apocalypse</td>\n",
       "      <td>Lauren Montgomery</td>\n",
       "      <td>[timdaly, kevinconroy, summerglau]</td>\n",
       "      <td>7.0</td>\n",
       "      <td>6.552146</td>\n",
       "    </tr>\n",
       "    <tr>\n",
       "      <th>11891</th>\n",
       "      <td>Man of Steel</td>\n",
       "      <td>Zack Snyder</td>\n",
       "      <td>[henrycavill, amyadams, michaelshannon]</td>\n",
       "      <td>6.5</td>\n",
       "      <td>6.488951</td>\n",
       "    </tr>\n",
       "    <tr>\n",
       "      <th>14146</th>\n",
       "      <td>X-Men: Apocalypse</td>\n",
       "      <td>Bryan Singer</td>\n",
       "      <td>[jamesmcavoy, michaelfassbender, jenniferlawrence]</td>\n",
       "      <td>6.4</td>\n",
       "      <td>6.386952</td>\n",
       "    </tr>\n",
       "    <tr>\n",
       "      <th>11988</th>\n",
       "      <td>The Wolverine</td>\n",
       "      <td>James Mangold</td>\n",
       "      <td>[hughjackman, hiroyukisanada, famkejanssen]</td>\n",
       "      <td>6.3</td>\n",
       "      <td>6.286663</td>\n",
       "    </tr>\n",
       "    <tr>\n",
       "      <th>6609</th>\n",
       "      <td>X-Men: The Last Stand</td>\n",
       "      <td>Brett Ratner</td>\n",
       "      <td>[hughjackman, halleberry, ianmckellen]</td>\n",
       "      <td>6.3</td>\n",
       "      <td>6.284737</td>\n",
       "    </tr>\n",
       "    <tr>\n",
       "      <th>11779</th>\n",
       "      <td>Planet Hulk</td>\n",
       "      <td>Sam Liu</td>\n",
       "      <td>[rickd.wasserman, marcworden, markhildreth]</td>\n",
       "      <td>6.7</td>\n",
       "      <td>6.233121</td>\n",
       "    </tr>\n",
       "    <tr>\n",
       "      <th>8195</th>\n",
       "      <td>X-Men Origins: Wolverine</td>\n",
       "      <td>Gavin Hood</td>\n",
       "      <td>[hughjackman, lievschreiber, dannyhuston]</td>\n",
       "      <td>6.2</td>\n",
       "      <td>6.188554</td>\n",
       "    </tr>\n",
       "    <tr>\n",
       "      <th>11778</th>\n",
       "      <td>Hulk vs. Wolverine</td>\n",
       "      <td>Frank Paur</td>\n",
       "      <td>[fredtatasciore, brycejohnson, nolannorth]</td>\n",
       "      <td>6.8</td>\n",
       "      <td>6.054561</td>\n",
       "    </tr>\n",
       "    <tr>\n",
       "      <th>1346</th>\n",
       "      <td>Apt Pupil</td>\n",
       "      <td>Bryan Singer</td>\n",
       "      <td>[ianmckellen, bradrenfro, davidschwimmer]</td>\n",
       "      <td>6.2</td>\n",
       "      <td>6.009172</td>\n",
       "    </tr>\n",
       "    <tr>\n",
       "      <th>11666</th>\n",
       "      <td>Look, Up in the Sky: The Amazing Story of Superman</td>\n",
       "      <td>Kevin Burns</td>\n",
       "      <td>[kevinspacey, richarddonner, bryansinger]</td>\n",
       "      <td>6.9</td>\n",
       "      <td>5.691873</td>\n",
       "    </tr>\n",
       "    <tr>\n",
       "      <th>15703</th>\n",
       "      <td>Sidekick</td>\n",
       "      <td>None</td>\n",
       "      <td>[]</td>\n",
       "      <td>7.0</td>\n",
       "      <td>5.634855</td>\n",
       "    </tr>\n",
       "  </tbody>\n",
       "</table>\n",
       "</div>"
      ],
      "text/plain": [
       "                                                    title          Director_  \\\n",
       "38                                     The Usual Suspects       Bryan Singer   \n",
       "20848                                               Logan      James Mangold   \n",
       "12760                 Captain America: The Winter Soldier      Anthony Russo   \n",
       "12881                          X-Men: Days of Future Past       Bryan Singer   \n",
       "10378                                        The Avengers        Joss Whedon   \n",
       "14142                                            Deadpool         Tim Miller   \n",
       "7596                                             Iron Man        Jon Favreau   \n",
       "14139                             Avengers: Age of Ultron        Joss Whedon   \n",
       "14144                          Captain America: Civil War      Anthony Russo   \n",
       "14145                                      Doctor Strange   Scott Derrickson   \n",
       "10087                                  X-Men: First Class     Matthew Vaughn   \n",
       "14141                                             Ant-Man        Peyton Reed   \n",
       "12261                                Thor: The Dark World        Alan Taylor   \n",
       "2234                                                X-Men       Bryan Singer   \n",
       "3616                                                   X2       Bryan Singer   \n",
       "7959                                             Valkyrie       Bryan Singer   \n",
       "20396                                           Team Thor      Taika Waititi   \n",
       "10194                  Captain America: The First Avenger       Joe Johnston   \n",
       "8962                                           Iron Man 2        Jon Favreau   \n",
       "9951                                                 Thor    Kenneth Branagh   \n",
       "9299                          Superman/Batman: Apocalypse  Lauren Montgomery   \n",
       "11891                                        Man of Steel        Zack Snyder   \n",
       "14146                                   X-Men: Apocalypse       Bryan Singer   \n",
       "11988                                       The Wolverine      James Mangold   \n",
       "6609                                X-Men: The Last Stand       Brett Ratner   \n",
       "11779                                         Planet Hulk            Sam Liu   \n",
       "8195                             X-Men Origins: Wolverine         Gavin Hood   \n",
       "11778                                  Hulk vs. Wolverine         Frank Paur   \n",
       "1346                                            Apt Pupil       Bryan Singer   \n",
       "11666  Look, Up in the Sky: The Amazing Story of Superman        Kevin Burns   \n",
       "15703                                            Sidekick               None   \n",
       "\n",
       "                                                        cast  vote_average  \\\n",
       "38           [stephenbaldwin, gabrielbyrne, chazzpalminteri]           8.1   \n",
       "20848               [hughjackman, patrickstewart, dafnekeen]           7.6   \n",
       "12760       [chrisevans, samuell.jackson, scarlettjohansson]           7.6   \n",
       "12881          [hughjackman, jamesmcavoy, michaelfassbender]           7.5   \n",
       "10378             [robertdowneyjr., chrisevans, markruffalo]           7.4   \n",
       "14142               [ryanreynolds, morenabaccarin, edskrein]           7.4   \n",
       "7596          [robertdowneyjr., terrencehoward, jeffbridges]           7.4   \n",
       "14139         [robertdowneyjr., chrishemsworth, markruffalo]           7.3   \n",
       "14144       [chrisevans, robertdowneyjr., scarlettjohansson]           7.1   \n",
       "14145  [benedictcumberbatch, chiwetelejiofor, rachelmcadams]           7.1   \n",
       "10087     [jamesmcavoy, michaelfassbender, jenniferlawrence]           7.1   \n",
       "14141            [paulrudd, michaeldouglas, evangelinelilly]           7.0   \n",
       "12261        [chrishemsworth, natalieportman, tomhiddleston]           6.8   \n",
       "2234              [patrickstewart, hughjackman, ianmckellen]           6.8   \n",
       "3616              [patrickstewart, hughjackman, ianmckellen]           6.8   \n",
       "7959            [tomcruise, caricevanhouten, kennethbranagh]           6.7   \n",
       "20396            [chrishemsworth, markruffalo, daleypearson]           7.5   \n",
       "10194               [chrisevans, hugoweaving, tommyleejones]           6.6   \n",
       "8962           [robertdowneyjr., gwynethpaltrow, doncheadle]           6.6   \n",
       "9951         [chrishemsworth, natalieportman, tomhiddleston]           6.6   \n",
       "9299                      [timdaly, kevinconroy, summerglau]           7.0   \n",
       "11891                [henrycavill, amyadams, michaelshannon]           6.5   \n",
       "14146     [jamesmcavoy, michaelfassbender, jenniferlawrence]           6.4   \n",
       "11988            [hughjackman, hiroyukisanada, famkejanssen]           6.3   \n",
       "6609                  [hughjackman, halleberry, ianmckellen]           6.3   \n",
       "11779            [rickd.wasserman, marcworden, markhildreth]           6.7   \n",
       "8195               [hughjackman, lievschreiber, dannyhuston]           6.2   \n",
       "11778             [fredtatasciore, brycejohnson, nolannorth]           6.8   \n",
       "1346               [ianmckellen, bradrenfro, davidschwimmer]           6.2   \n",
       "11666              [kevinspacey, richarddonner, bryansinger]           6.9   \n",
       "15703                                                     []           7.0   \n",
       "\n",
       "             wr  \n",
       "38     8.040425  \n",
       "20848  7.574577  \n",
       "12760  7.572747  \n",
       "12881  7.475259  \n",
       "10378  7.387907  \n",
       "14142  7.387324  \n",
       "7596   7.383825  \n",
       "14139  7.280271  \n",
       "14144  7.083894  \n",
       "14145  7.079620  \n",
       "10087  7.077220  \n",
       "14141  6.981459  \n",
       "12261  6.780443  \n",
       "2234   6.777220  \n",
       "3616   6.773479  \n",
       "7959   6.630535  \n",
       "20396  6.618246  \n",
       "10194  6.588905  \n",
       "8962   6.588582  \n",
       "9951   6.588091  \n",
       "9299   6.552146  \n",
       "11891  6.488951  \n",
       "14146  6.386952  \n",
       "11988  6.286663  \n",
       "6609   6.284737  \n",
       "11779  6.233121  \n",
       "8195   6.188554  \n",
       "11778  6.054561  \n",
       "1346   6.009172  \n",
       "11666  5.691873  \n",
       "15703  5.634855  "
      ]
     },
     "execution_count": 168,
     "metadata": {},
     "output_type": "execute_result"
    }
   ],
   "source": [
    "l=movie_recf('x-men')\n",
    "l"
   ]
  },
  {
   "cell_type": "code",
   "execution_count": 172,
   "metadata": {},
   "outputs": [],
   "source": [
    "md_top.to_csv('./md_top.csv')\n",
    "titles.to_csv('./title.csv')\n",
    "indices.to_csv('./indices.csv')"
   ]
  },
  {
   "cell_type": "code",
   "execution_count": 1,
   "metadata": {},
   "outputs": [
    {
     "ename": "NameError",
     "evalue": "name 'indices' is not defined",
     "output_type": "error",
     "traceback": [
      "\u001b[0;31m---------------------------------------------------------------------------\u001b[0m",
      "\u001b[0;31mNameError\u001b[0m                                 Traceback (most recent call last)",
      "\u001b[0;32m<ipython-input-1-e48decdcb3c1>\u001b[0m in \u001b[0;36m<module>\u001b[0;34m\u001b[0m\n\u001b[0;32m----> 1\u001b[0;31m \u001b[0mindices\u001b[0m\u001b[0;34m\u001b[0m\u001b[0;34m\u001b[0m\u001b[0m\n\u001b[0m",
      "\u001b[0;31mNameError\u001b[0m: name 'indices' is not defined"
     ]
    }
   ],
   "source": [
    "indices"
   ]
  },
  {
   "cell_type": "code",
   "execution_count": null,
   "metadata": {},
   "outputs": [],
   "source": []
  }
 ],
 "metadata": {
  "kernelspec": {
   "display_name": "Python 3",
   "language": "python",
   "name": "python3"
  },
  "language_info": {
   "codemirror_mode": {
    "name": "ipython",
    "version": 3
   },
   "file_extension": ".py",
   "mimetype": "text/x-python",
   "name": "python",
   "nbconvert_exporter": "python",
   "pygments_lexer": "ipython3",
   "version": "3.7.3"
  }
 },
 "nbformat": 4,
 "nbformat_minor": 2
}
